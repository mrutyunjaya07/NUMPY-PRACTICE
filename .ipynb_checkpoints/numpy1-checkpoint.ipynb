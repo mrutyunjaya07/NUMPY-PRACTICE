{
 "cells": [
  {
   "cell_type": "markdown",
   "id": "a6e318b1-3d5e-4a7e-a715-81b28fb8a4e1",
   "metadata": {},
   "source": [
    "# NumPy Library"
   ]
  },
  {
   "cell_type": "markdown",
   "id": "e031c6d5-7b89-4439-b36e-be140851e8d4",
   "metadata": {},
   "source": [
    "stands for - Numerical python"
   ]
  },
  {
   "cell_type": "markdown",
   "id": "c3b01a0f-c309-4709-b4c7-a2b8b9b6b49e",
   "metadata": {},
   "source": [
    "Supports : multi-dimensional arrays, \n",
    "           mathematical functions, \n",
    "           linear algebra,\n",
    "           random number generation, and more ."
   ]
  },
  {
   "cell_type": "markdown",
   "id": "a03845cf-4bf6-4927-a0d2-ab499a372266",
   "metadata": {},
   "source": [
    "## Installation of NumPy"
   ]
  },
  {
   "cell_type": "code",
   "execution_count": 14,
   "id": "dbf4387e-5d3c-4daa-84aa-952b435db6f0",
   "metadata": {},
   "outputs": [
    {
     "name": "stdout",
     "output_type": "stream",
     "text": [
      "Requirement already satisfied: numpy in c:\\users\\mjmoh\\anaconda3\\lib\\site-packages (1.26.4)\n",
      "Note: you may need to restart the kernel to use updated packages.\n"
     ]
    }
   ],
   "source": [
    "pip install numpy\n"
   ]
  },
  {
   "cell_type": "code",
   "execution_count": null,
   "id": "142719e0-af79-4e38-bfea-b6b10401be7b",
   "metadata": {},
   "outputs": [],
   "source": []
  }
 ],
 "metadata": {
  "kernelspec": {
   "display_name": "Python [conda env:base] *",
   "language": "python",
   "name": "conda-base-py"
  },
  "language_info": {
   "codemirror_mode": {
    "name": "ipython",
    "version": 3
   },
   "file_extension": ".py",
   "mimetype": "text/x-python",
   "name": "python",
   "nbconvert_exporter": "python",
   "pygments_lexer": "ipython3",
   "version": "3.12.7"
  }
 },
 "nbformat": 4,
 "nbformat_minor": 5
}
