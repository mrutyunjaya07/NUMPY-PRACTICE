{
 "cells": [
  {
   "cell_type": "markdown",
   "id": "a6e318b1-3d5e-4a7e-a715-81b28fb8a4e1",
   "metadata": {},
   "source": [
    "# NumPy Library"
   ]
  },
  {
   "cell_type": "markdown",
   "id": "e031c6d5-7b89-4439-b36e-be140851e8d4",
   "metadata": {},
   "source": [
    "stands for - Numerical python"
   ]
  },
  {
   "cell_type": "markdown",
   "id": "c3b01a0f-c309-4709-b4c7-a2b8b9b6b49e",
   "metadata": {},
   "source": [
    "Supports : multi-dimensional arrays, \n",
    "           mathematical functions, \n",
    "           linear algebra,\n",
    "           random number generation, and more ."
   ]
  },
  {
   "cell_type": "markdown",
   "id": "a03845cf-4bf6-4927-a0d2-ab499a372266",
   "metadata": {},
   "source": [
    "### Installation of NumPy"
   ]
  },
  {
   "cell_type": "code",
   "execution_count": 1,
   "id": "dbf4387e-5d3c-4daa-84aa-952b435db6f0",
   "metadata": {},
   "outputs": [
    {
     "name": "stdout",
     "output_type": "stream",
     "text": [
      "Requirement already satisfied: numpy in c:\\users\\mjmoh\\anaconda3\\lib\\site-packages (1.26.4)\n",
      "Note: you may need to restart the kernel to use updated packages.\n"
     ]
    }
   ],
   "source": [
    "pip install numpy\n"
   ]
  },
  {
   "cell_type": "markdown",
   "id": "da7a17c1-04e6-442b-9466-b285faa603a8",
   "metadata": {},
   "source": [
    "### to check version of numpy"
   ]
  },
  {
   "cell_type": "code",
   "execution_count": 8,
   "id": "71882e44-2eb6-465a-a92a-16b8b17e7790",
   "metadata": {},
   "outputs": [
    {
     "name": "stdout",
     "output_type": "stream",
     "text": [
      "1.26.4\n"
     ]
    }
   ],
   "source": [
    "import numpy as np\n",
    "print(np.__version__)\n"
   ]
  },
  {
   "cell_type": "markdown",
   "id": "86184e30-6750-44e7-8f27-57cfcc6db48a",
   "metadata": {},
   "source": [
    "## NumPy Arrays"
   ]
  },
  {
   "cell_type": "code",
   "execution_count": 10,
   "id": "43b6ade2-b488-45e1-93dd-94d049c3abe5",
   "metadata": {},
   "outputs": [
    {
     "name": "stdout",
     "output_type": "stream",
     "text": [
      "[1 2 3 4 5]\n",
      "[[1 2 3]\n",
      " [4 5 6]]\n"
     ]
    }
   ],
   "source": [
    "import numpy as np\n",
    "\n",
    "# Creating a 1D array\n",
    "arr1 = np.array([1, 2, 3, 4, 5])  # any iterable sequence of definite length\n",
    "print(arr1)\n",
    "\n",
    "# Creating a 2D array\n",
    "arr2 = np.array([[1, 2, 3], [4, 5, 6]])\n",
    "print(arr2)\n"
   ]
  },
  {
   "cell_type": "markdown",
   "id": "51ce5206-c0e5-4f77-9509-43a4e8e1b1af",
   "metadata": {},
   "source": [
    "### Basic Properties"
   ]
  },
  {
   "cell_type": "markdown",
   "id": "254b6072-ad8d-4bcf-a21c-f9a104b1f232",
   "metadata": {},
   "source": [
    "1. Homogeneous elements : elements should be of same ddata type"
   ]
  },
  {
   "cell_type": "markdown",
   "id": "6b4203d7-d396-4069-84f7-7f238e790206",
   "metadata": {},
   "source": [
    "2. Contiguous : elements are stored in contiguous memory blocks "
   ]
  },
  {
   "cell_type": "markdown",
   "id": "e736e26e-7ba0-4ca7-b65e-3e4372c855e1",
   "metadata": {},
   "source": [
    "3. Fixed size : once created , it has a fixed size"
   ]
  },
  {
   "cell_type": "markdown",
   "id": "d50c7430-59c0-4068-b9a2-e97b2736a4ef",
   "metadata": {},
   "source": [
    "4. Multidimensional : can be of multiple dimensions 1D, 2D, 3D"
   ]
  },
  {
   "cell_type": "markdown",
   "id": "5ee715c8-31c7-4fc0-b401-e6f7339d9274",
   "metadata": {},
   "source": [
    "5. Vectorized Operations : allows element-wise operations"
   ]
  },
  {
   "cell_type": "markdown",
   "id": "d439ce00-3ba6-42b4-86f9-30adc6cbc75a",
   "metadata": {},
   "source": [
    "6. Mutable : can be modified"
   ]
  },
  {
   "cell_type": "markdown",
   "id": "0ee88b66-617f-4b6e-b6aa-3f1e8249ee55",
   "metadata": {},
   "source": [
    "7. Efficient memory usage : consumes less memory than list"
   ]
  },
  {
   "cell_type": "markdown",
   "id": "5479e802-c887-4c8d-8687-bb0aa42aca69",
   "metadata": {},
   "source": [
    "## creating array using built in functions :"
   ]
  },
  {
   "cell_type": "code",
   "execution_count": 30,
   "id": "12886beb-a100-4db8-ac01-6e19824d6850",
   "metadata": {},
   "outputs": [
    {
     "name": "stdout",
     "output_type": "stream",
     "text": [
      "[[0. 0. 0.]\n",
      " [0. 0. 0.]\n",
      " [0. 0. 0.]]\n"
     ]
    }
   ],
   "source": [
    "# Array of zeros\n",
    "zeros_array = np.zeros((3, 3))\n",
    "print(zeros_array)\n",
    "\n",
    "\n"
   ]
  },
  {
   "cell_type": "code",
   "execution_count": 34,
   "id": "df219ee8-66b7-40fb-9ff2-47876d2fed31",
   "metadata": {},
   "outputs": [
    {
     "name": "stdout",
     "output_type": "stream",
     "text": [
      "[[1. 1.]\n",
      " [1. 1.]]\n"
     ]
    }
   ],
   "source": [
    "# Array of ones\n",
    "ones_array = np.ones((2, 2))\n",
    "print(ones_array)\n"
   ]
  },
  {
   "cell_type": "code",
   "execution_count": 38,
   "id": "1a9431a7-943f-44ce-9046-ec9e26f2ec4c",
   "metadata": {},
   "outputs": [
    {
     "name": "stdout",
     "output_type": "stream",
     "text": [
      "[[1. 0. 0.]\n",
      " [0. 1. 0.]\n",
      " [0. 0. 1.]]\n"
     ]
    }
   ],
   "source": [
    "# Identity matrix\n",
    "identity_matrix = np.eye(3)\n",
    "print(identity_matrix)\n"
   ]
  },
  {
   "cell_type": "code",
   "execution_count": 20,
   "id": "5aa85f52-37e7-42b9-a469-8c249ef7981e",
   "metadata": {},
   "outputs": [
    {
     "name": "stdout",
     "output_type": "stream",
     "text": [
      "[ 1  3  5  7  9 11 13 15 17]\n"
     ]
    }
   ],
   "source": [
    "# Array with a range of numbers\n",
    "range_array = np.arange(1, 19, 2)\n",
    "print(range_array)\n",
    "\n",
    "\n"
   ]
  },
  {
   "cell_type": "code",
   "execution_count": 38,
   "id": "cc75d9ad-0f9a-427f-9f0c-c7d65fdaa17f",
   "metadata": {},
   "outputs": [
    {
     "name": "stdout",
     "output_type": "stream",
     "text": [
      "[ 1.    3.75  6.5   9.25 12.  ]\n"
     ]
    }
   ],
   "source": [
    "# Array with evenly spaced values\n",
    "linspace_array = np.linspace(1, 12, 5)\n",
    "print(linspace_array)\n",
    "\n"
   ]
  },
  {
   "cell_type": "code",
   "execution_count": 52,
   "id": "d1017231-f95e-464f-bbc8-8635d4d6dd19",
   "metadata": {},
   "outputs": [
    {
     "name": "stdout",
     "output_type": "stream",
     "text": [
      "[[0.61958112 0.49652393 0.635418  ]\n",
      " [0.04555392 0.13066839 0.81214354]\n",
      " [0.78942812 0.38038871 0.63671534]]\n"
     ]
    }
   ],
   "source": [
    "# Random array\n",
    "random_array = np.random.rand(3, 3)  # Uniform distribution\n",
    "print(random_array)\n"
   ]
  },
  {
   "cell_type": "code",
   "execution_count": 56,
   "id": "f37a610e-946f-43fb-aa41-af9cc1ffe396",
   "metadata": {},
   "outputs": [
    {
     "name": "stdout",
     "output_type": "stream",
     "text": [
      "[[8 6 5]\n",
      " [9 9 4]\n",
      " [1 4 5]]\n"
     ]
    }
   ],
   "source": [
    "# random inntegers\n",
    "random_int_array=np.random.randint(1, 10,(3,3))\n",
    "print(random_int_array)"
   ]
  },
  {
   "cell_type": "markdown",
   "id": "618a1991-a406-4e28-82de-4901e40d370b",
   "metadata": {},
   "source": [
    "### Array Attributes"
   ]
  },
  {
   "cell_type": "code",
   "execution_count": 62,
   "id": "49608d42-e6fb-47fb-8034-1970c4931f44",
   "metadata": {},
   "outputs": [
    {
     "name": "stdout",
     "output_type": "stream",
     "text": [
      "(2, 3)\n",
      "2\n",
      "6\n",
      "int32\n",
      "4\n"
     ]
    }
   ],
   "source": [
    "arr = np.array([[1, 2, 3], [4, 5, 6]])\n",
    "\n",
    "print(arr.shape)  # (rows, columns)\n",
    "\n",
    "print(arr.ndim)   # Number of dimensions\n",
    "\n",
    "print(arr.size)   # Total elements\n",
    "\n",
    "print(arr.dtype)  # Data type\n",
    "\n",
    "print(arr.itemsize)  # Size of one element in bytes\n"
   ]
  },
  {
   "cell_type": "markdown",
   "id": "5b603035-3fc8-44c6-9e57-28348ce7b5a2",
   "metadata": {},
   "source": [
    "### Array Reshaping and Flattening"
   ]
  },
  {
   "cell_type": "code",
   "execution_count": 75,
   "id": "f2a24cdc-d7a9-4a06-a2da-9d9a02e61ad7",
   "metadata": {},
   "outputs": [
    {
     "name": "stdout",
     "output_type": "stream",
     "text": [
      "[[1 2]\n",
      " [3 4]\n",
      " [5 6]]\n",
      "[1 2 3 4 5 6]\n"
     ]
    }
   ],
   "source": [
    "arr = np.array([1, 2, 3, 4, 5, 6])\n",
    "reshaped_arr = arr.reshape((3, 2)) # m*n should be = to no. of elements\n",
    "print(reshaped_arr)\n",
    "\n",
    "\n",
    "flattened_arr = reshaped_arr.flatten() # reverses the previous process\n",
    "print(flattened_arr)"
   ]
  },
  {
   "cell_type": "markdown",
   "id": "3c45d99d-2c3b-497a-b222-c34c33d3db00",
   "metadata": {},
   "source": [
    "### Concatenation and Splitting"
   ]
  },
  {
   "cell_type": "code",
   "execution_count": 85,
   "id": "7c862bfc-83f1-4efb-8195-3962ca622f46",
   "metadata": {},
   "outputs": [
    {
     "name": "stdout",
     "output_type": "stream",
     "text": [
      "[1 2 3 4 5 6]\n",
      "[array([1, 2, 3]), array([4, 5, 6])]\n"
     ]
    }
   ],
   "source": [
    "a = np.array([1, 2, 3])\n",
    "b = np.array([4, 5, 6])\n",
    "\n",
    "# Concatenation\n",
    "concatenated = np.concatenate((a, b))\n",
    "print(concatenated)\n",
    "\n",
    "# Splitting\n",
    "split_arr = np.split(concatenated, 2)\n",
    "print(split_arr)"
   ]
  },
  {
   "cell_type": "markdown",
   "id": "68b15292-9929-4e1c-92d7-d8888f7c7ce4",
   "metadata": {},
   "source": [
    "### Indexing and Slicing"
   ]
  },
  {
   "cell_type": "code",
   "execution_count": 94,
   "id": "cdc4415c-7ddc-416c-9d9c-3d7972555962",
   "metadata": {},
   "outputs": [
    {
     "name": "stdout",
     "output_type": "stream",
     "text": [
      "[[1 2 3]\n",
      " [4 5 6]\n",
      " [7 8 9]]\n",
      "\n",
      "2\n",
      "\n",
      "[2 5 8]\n",
      "\n",
      "[[4 5]\n",
      " [7 8]]\n"
     ]
    }
   ],
   "source": [
    "arr = np.array([[1, 2, 3], [4, 5, 6], [7, 8, 9]])\n",
    "print(arr)\n",
    "print()\n",
    "\n",
    "# Accessing elements\n",
    "print(arr[0, 1])  # Element at row 0, column 1\n",
    "print()\n",
    "\n",
    "# Slicing (rows:columns)\n",
    "print(arr[:, 1])  # All rows, second column\n",
    "print()\n",
    "print(arr[1:, :2])  # Rows 1 onwards, first two columns\n"
   ]
  },
  {
   "cell_type": "markdown",
   "id": "9b5d30c9-df3e-410f-b1b0-d3da5753716f",
   "metadata": {},
   "source": [
    "### Mathematical Operations"
   ]
  },
  {
   "cell_type": "markdown",
   "id": "561e0485-0f8f-447e-9b5b-c27320a65c8c",
   "metadata": {},
   "source": [
    "#### 1. Basic operations"
   ]
  },
  {
   "cell_type": "code",
   "execution_count": 100,
   "id": "596aa297-b6c2-4251-98a6-59028c839399",
   "metadata": {},
   "outputs": [
    {
     "name": "stdout",
     "output_type": "stream",
     "text": [
      "[5 7 9] [-3 -3 -3] [ 4 10 18] [0.25 0.4  0.5 ]\n"
     ]
    }
   ],
   "source": [
    "arr1 = np.array([1, 2, 3])\n",
    "arr2 = np.array([4, 5, 6])\n",
    "\n",
    "# Element-wise operations\n",
    "sum_arr = arr1 + arr2\n",
    "diff_arr = arr1 - arr2\n",
    "prod_arr = arr1 * arr2\n",
    "div_arr = arr1 / arr2\n",
    "print(sum_arr, diff_arr, prod_arr, div_arr)\n"
   ]
  },
  {
   "cell_type": "markdown",
   "id": "4cb18f7b-9edc-4991-9e02-476c7e395e4f",
   "metadata": {},
   "source": [
    "#### 2. Aggregate Functions"
   ]
  },
  {
   "cell_type": "code",
   "execution_count": 104,
   "id": "5e45da64-5102-48f9-aed6-d5a347ddedb3",
   "metadata": {},
   "outputs": [
    {
     "name": "stdout",
     "output_type": "stream",
     "text": [
      "15\n",
      "3.0\n",
      "3.0\n",
      "1.4142135623730951\n",
      "1\n",
      "5\n"
     ]
    }
   ],
   "source": [
    "arr = np.array([1, 2, 3, 4, 5])\n",
    "\n",
    "print(np.sum(arr))  # Sum of elements\n",
    "print(np.mean(arr))  # Mean\n",
    "print(np.median(arr))  # Median\n",
    "print(np.std(arr))  # Standard deviation\n",
    "print(np.min(arr))  # Minimum value\n",
    "print(np.max(arr))  # Maximum value\n"
   ]
  },
  {
   "cell_type": "markdown",
   "id": "02fbce21-8f87-4c78-9e79-729fbc037338",
   "metadata": {},
   "source": [
    "#### 3. Matrix Operations"
   ]
  },
  {
   "cell_type": "code",
   "execution_count": 115,
   "id": "f5fc0d86-dfda-477f-8750-a5541c115036",
   "metadata": {},
   "outputs": [
    {
     "name": "stdout",
     "output_type": "stream",
     "text": [
      "[[19 22]\n",
      " [43 50]]\n",
      "\n",
      "[[1 3]\n",
      " [2 4]]\n",
      "\n",
      "[[-2.   1. ]\n",
      " [ 1.5 -0.5]]\n"
     ]
    }
   ],
   "source": [
    "matrix1 = np.array([[1, 2], [3, 4]])\n",
    "matrix2 = np.array([[5, 6], [7, 8]])\n",
    "\n",
    "# Matrix multiplication\n",
    "result = np.dot(matrix1, matrix2)\n",
    "print(result)\n",
    "print()\n",
    "\n",
    "# Transpose\n",
    "transposed = matrix1.T\n",
    "print(transposed)\n",
    "print()\n",
    "\n",
    "# Inverse\n",
    "inverse_matrix = np.linalg.inv(matrix1)\n",
    "print(inverse_matrix)\n"
   ]
  },
  {
   "cell_type": "markdown",
   "id": "5300d9e0-b418-4f50-bef3-b48da84cf712",
   "metadata": {},
   "source": [
    "### Random Module"
   ]
  },
  {
   "cell_type": "code",
   "execution_count": 128,
   "id": "62b835ce-78df-428a-8fd4-38f70bdb1691",
   "metadata": {},
   "outputs": [
    {
     "name": "stdout",
     "output_type": "stream",
     "text": [
      "[0.52276504 0.15584666 0.31305991]\n",
      "[[4 8]\n",
      " [2 4]]\n",
      "[3 1 5 2 4]\n"
     ]
    }
   ],
   "source": [
    "# Generate random numbers\n",
    "rand_num = np.random.rand(3)  # 3 random numbers between 0 and 1\n",
    "print(rand_num)\n",
    "\n",
    "rand_int = np.random.randint(1, 10, (2, 2))  # 2x2 random integers from 1 to 9\n",
    "print(rand_int)\n",
    "\n",
    "# Shuffle an array\n",
    "arr = np.array([1, 2, 3, 4, 5])\n",
    "np.random.shuffle(arr)\n",
    "print(arr)"
   ]
  },
  {
   "cell_type": "markdown",
   "id": "d9cf5835-b150-4a2b-88ed-d342cae99df9",
   "metadata": {},
   "source": [
    "### Copying and View in NumPy"
   ]
  },
  {
   "cell_type": "code",
   "execution_count": null,
   "id": "2609a7cf-68fd-4bc8-9f59-e58c2fa47c1c",
   "metadata": {},
   "outputs": [],
   "source": [
    "# Shallow copy (view)\n",
    "arr = np.array([1, 2, 3])\n",
    "view_arr = arr.view()\n",
    "view_arr[0] = 99  # Modifies original array\n",
    "\n",
    "# Deep copy\n",
    "copy_arr = arr.copy()\n",
    "copy_arr[0] = 100  # Does not modify original array\n"
   ]
  }
 ],
 "metadata": {
  "kernelspec": {
   "display_name": "Python [conda env:base] *",
   "language": "python",
   "name": "conda-base-py"
  },
  "language_info": {
   "codemirror_mode": {
    "name": "ipython",
    "version": 3
   },
   "file_extension": ".py",
   "mimetype": "text/x-python",
   "name": "python",
   "nbconvert_exporter": "python",
   "pygments_lexer": "ipython3",
   "version": "3.12.7"
  }
 },
 "nbformat": 4,
 "nbformat_minor": 5
}
