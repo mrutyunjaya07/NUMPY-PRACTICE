{
 "cells": [
  {
   "cell_type": "markdown",
   "id": "a6e318b1-3d5e-4a7e-a715-81b28fb8a4e1",
   "metadata": {},
   "source": [
    "# NumPy Library"
   ]
  },
  {
   "cell_type": "markdown",
   "id": "e031c6d5-7b89-4439-b36e-be140851e8d4",
   "metadata": {},
   "source": [
    "stands for - Numerical python"
   ]
  },
  {
   "cell_type": "markdown",
   "id": "c3b01a0f-c309-4709-b4c7-a2b8b9b6b49e",
   "metadata": {},
   "source": [
    "Supports : multi-dimensional arrays, \n",
    "           mathematical functions, \n",
    "           linear algebra,\n",
    "           random number generation, and more ."
   ]
  },
  {
   "cell_type": "markdown",
   "id": "a03845cf-4bf6-4927-a0d2-ab499a372266",
   "metadata": {},
   "source": [
    "### Installation of NumPy"
   ]
  },
  {
   "cell_type": "code",
   "execution_count": 1,
   "id": "dbf4387e-5d3c-4daa-84aa-952b435db6f0",
   "metadata": {},
   "outputs": [
    {
     "name": "stdout",
     "output_type": "stream",
     "text": [
      "Requirement already satisfied: numpy in c:\\users\\mjmoh\\anaconda3\\lib\\site-packages (1.26.4)\n",
      "Note: you may need to restart the kernel to use updated packages.\n"
     ]
    }
   ],
   "source": [
    "pip install numpy\n"
   ]
  },
  {
   "cell_type": "markdown",
   "id": "da7a17c1-04e6-442b-9466-b285faa603a8",
   "metadata": {},
   "source": [
    "### to check version of numpy"
   ]
  },
  {
   "cell_type": "code",
   "execution_count": 4,
   "id": "71882e44-2eb6-465a-a92a-16b8b17e7790",
   "metadata": {},
   "outputs": [
    {
     "name": "stdout",
     "output_type": "stream",
     "text": [
      "1.26.4\n"
     ]
    }
   ],
   "source": [
    "import numpy as np\n",
    "print(np.__version__)\n"
   ]
  },
  {
   "cell_type": "markdown",
   "id": "86184e30-6750-44e7-8f27-57cfcc6db48a",
   "metadata": {},
   "source": [
    "## NumPy Arrays"
   ]
  },
  {
   "cell_type": "code",
   "execution_count": 8,
   "id": "43b6ade2-b488-45e1-93dd-94d049c3abe5",
   "metadata": {},
   "outputs": [
    {
     "name": "stdout",
     "output_type": "stream",
     "text": [
      "[1 2 3 4 5]\n",
      "[[1 2 3]\n",
      " [4 5 6]]\n"
     ]
    }
   ],
   "source": [
    "import numpy as np\n",
    "\n",
    "# Creating a 1D array\n",
    "arr1 = np.array([1, 2, 3, 4, 5])  # any iterable sequence of definite length\n",
    "print(arr1)\n",
    "\n",
    "# Creating a 2D array\n",
    "arr2 = np.array([[1, 2, 3], [4, 5, 6]])\n",
    "print(arr2)\n"
   ]
  },
  {
   "cell_type": "markdown",
   "id": "51ce5206-c0e5-4f77-9509-43a4e8e1b1af",
   "metadata": {},
   "source": [
    "### Basic Properties"
   ]
  },
  {
   "cell_type": "markdown",
   "id": "254b6072-ad8d-4bcf-a21c-f9a104b1f232",
   "metadata": {},
   "source": [
    "1. Homogeneous elements : elements should be of same ddata type"
   ]
  },
  {
   "cell_type": "markdown",
   "id": "6b4203d7-d396-4069-84f7-7f238e790206",
   "metadata": {},
   "source": [
    "2. Contiguous : elements are stored in contiguous memory blocks "
   ]
  },
  {
   "cell_type": "markdown",
   "id": "e736e26e-7ba0-4ca7-b65e-3e4372c855e1",
   "metadata": {},
   "source": [
    "3. Fixed size : once created , it has a fixed size"
   ]
  },
  {
   "cell_type": "markdown",
   "id": "d50c7430-59c0-4068-b9a2-e97b2736a4ef",
   "metadata": {},
   "source": [
    "4. Multidimensional : can be of multiple dimensions 1D, 2D, 3D"
   ]
  },
  {
   "cell_type": "markdown",
   "id": "5ee715c8-31c7-4fc0-b401-e6f7339d9274",
   "metadata": {},
   "source": [
    "5. Vectorized Operations : allows element-wise operations"
   ]
  },
  {
   "cell_type": "markdown",
   "id": "d439ce00-3ba6-42b4-86f9-30adc6cbc75a",
   "metadata": {},
   "source": [
    "6. Mutable : can be modified"
   ]
  },
  {
   "cell_type": "markdown",
   "id": "0ee88b66-617f-4b6e-b6aa-3f1e8249ee55",
   "metadata": {},
   "source": [
    "7. Efficient memory usage : consumes less memory than list"
   ]
  },
  {
   "cell_type": "markdown",
   "id": "5479e802-c887-4c8d-8687-bb0aa42aca69",
   "metadata": {},
   "source": [
    "## creating array using built in functions :"
   ]
  },
  {
   "cell_type": "code",
   "execution_count": 30,
   "id": "12886beb-a100-4db8-ac01-6e19824d6850",
   "metadata": {},
   "outputs": [
    {
     "name": "stdout",
     "output_type": "stream",
     "text": [
      "[[0. 0. 0.]\n",
      " [0. 0. 0.]\n",
      " [0. 0. 0.]]\n"
     ]
    }
   ],
   "source": [
    "# Array of zeros\n",
    "zeros_array = np.zeros((3, 3))\n",
    "print(zeros_array)\n",
    "\n",
    "\n"
   ]
  },
  {
   "cell_type": "code",
   "execution_count": 34,
   "id": "df219ee8-66b7-40fb-9ff2-47876d2fed31",
   "metadata": {},
   "outputs": [
    {
     "name": "stdout",
     "output_type": "stream",
     "text": [
      "[[1. 1.]\n",
      " [1. 1.]]\n"
     ]
    }
   ],
   "source": [
    "# Array of ones\n",
    "ones_array = np.ones((2, 2))\n",
    "print(ones_array)\n"
   ]
  },
  {
   "cell_type": "code",
   "execution_count": 38,
   "id": "1a9431a7-943f-44ce-9046-ec9e26f2ec4c",
   "metadata": {},
   "outputs": [
    {
     "name": "stdout",
     "output_type": "stream",
     "text": [
      "[[1. 0. 0.]\n",
      " [0. 1. 0.]\n",
      " [0. 0. 1.]]\n"
     ]
    }
   ],
   "source": [
    "# Identity matrix\n",
    "identity_matrix = np.eye(3)\n",
    "print(identity_matrix)\n"
   ]
  },
  {
   "cell_type": "code",
   "execution_count": null,
   "id": "5aa85f52-37e7-42b9-a469-8c249ef7981e",
   "metadata": {},
   "outputs": [],
   "source": [
    "# Array with a range of numbers\n",
    "range_array = np.arange(1, 10, 2)\n",
    "\n",
    "# Array with evenly spaced values\n",
    "linspace_array = np.linspace(1, 10, 5)\n",
    "\n",
    "# Random array\n",
    "random_array = np.random.rand(3, 3)  # Uniform distribution\n",
    "random_int_array = np.random.randint(1, 10, (2, 3))  # Random integers"
   ]
  }
 ],
 "metadata": {
  "kernelspec": {
   "display_name": "Python [conda env:base] *",
   "language": "python",
   "name": "conda-base-py"
  },
  "language_info": {
   "codemirror_mode": {
    "name": "ipython",
    "version": 3
   },
   "file_extension": ".py",
   "mimetype": "text/x-python",
   "name": "python",
   "nbconvert_exporter": "python",
   "pygments_lexer": "ipython3",
   "version": "3.12.7"
  }
 },
 "nbformat": 4,
 "nbformat_minor": 5
}
